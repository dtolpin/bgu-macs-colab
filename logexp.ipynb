{
  "nbformat": 4,
  "nbformat_minor": 0,
  "metadata": {
    "colab": {
      "name": "logexp.ipynb",
      "provenance": [],
      "collapsed_sections": [],
      "authorship_tag": "ABX9TyOTZsQ2xPiP60se7UOUD5dm",
      "include_colab_link": true
    },
    "kernelspec": {
      "name": "python3",
      "display_name": "Python 3"
    }
  },
  "cells": [
    {
      "cell_type": "markdown",
      "metadata": {
        "id": "view-in-github",
        "colab_type": "text"
      },
      "source": [
        "<a href=\"https://colab.research.google.com/github/dtolpin/bgu-macs-colab/blob/main/logexp.ipynb\" target=\"_parent\"><img src=\"https://colab.research.google.com/assets/colab-badge.svg\" alt=\"Open In Colab\"/></a>"
      ]
    },
    {
      "cell_type": "markdown",
      "metadata": {
        "id": "fdo_MELJzSOS"
      },
      "source": [
        "# Logarithm and exponent\n",
        "\n",
        "Applications of $log$ and $exp$ in computer science."
      ]
    },
    {
      "cell_type": "code",
      "metadata": {
        "id": "pI5b-c96rt08"
      },
      "source": [
        "import math\n",
        "import matplotlib.pyplot as plt\n",
        "import numpy"
      ],
      "execution_count": null,
      "outputs": []
    },
    {
      "cell_type": "markdown",
      "metadata": {
        "id": "KxUENdoayWM0"
      },
      "source": [
        "## Problem: Counting subsets of given size\n",
        "\n",
        "We are given a set of $N$ elements (e.g. items for sale in a store). We need to estimate number of subsets of size $K$, $0 \\le K \\le N$. \n",
        "\n",
        "Mathematically, the answer is given by the 'binomial coefficient' $N \\choose K$,\n",
        "\n",
        "$${N \\choose K} = \\frac {N!} {K!(N-K)!}$$\n",
        "\n",
        "We can write a program for computing the factorial, and then call it three times to compute the result."
      ]
    },
    {
      "cell_type": "code",
      "metadata": {
        "id": "AY4KLGr5rPV8"
      },
      "source": [
        "def fact(n):\n",
        "  fct = 1\n",
        "  for i in range(n):\n",
        "    fct *= i+1\n",
        "  return fct\n",
        "\n",
        "def comb(n, k):\n",
        "  return fact(n)//(fact(k)*fact(n - k))"
      ],
      "execution_count": null,
      "outputs": []
    },
    {
      "cell_type": "code",
      "metadata": {
        "id": "UjmzFsG13Q-8",
        "outputId": "da64a6a2-68c8-40bb-e740-11d87ed48ca4",
        "colab": {
          "base_uri": "https://localhost:8080/",
          "height": 173
        }
      },
      "source": [
        "\n",
        "%time print(\"1 out of 1 = %d\" % comb(1, 1))\n",
        "%time print(\"3 out of 4  = %d\" % comb(4, 3))\n",
        "%time print(\"10 out of 100000 = %d\" % comb(100000, 10))"
      ],
      "execution_count": null,
      "outputs": [
        {
          "output_type": "stream",
          "text": [
            "1 out of 1 = 1\n",
            "CPU times: user 291 µs, sys: 8 µs, total: 299 µs\n",
            "Wall time: 229 µs\n",
            "3 out of 4  = 4\n",
            "CPU times: user 132 µs, sys: 0 ns, total: 132 µs\n",
            "Wall time: 90.4 µs\n",
            "99990 out of 100000 = 27544920827561470257469913571105409574990000\n",
            "CPU times: user 5.02 s, sys: 7.64 ms, total: 5.03 s\n",
            "Wall time: 5.03 s\n"
          ],
          "name": "stdout"
        }
      ]
    },
    {
      "cell_type": "markdown",
      "metadata": {
        "id": "bBV1n_d81GxV"
      },
      "source": [
        "The last call took 5 seconds to compute. This is because interim numbers (100000!, 99999!) are very large and both computing them and dividing one by the other takes a long time."
      ]
    },
    {
      "cell_type": "markdown",
      "metadata": {
        "id": "lTe9ZYZ_2bua"
      },
      "source": [
        "However, we can make computations on the log scale, noting that \n",
        "$$\\log n! = \\sum_{i=1}^n \\log i$$\n",
        "and\n",
        "$$\\log \\frac a b = \\log a - \\log b$$"
      ]
    },
    {
      "cell_type": "code",
      "metadata": {
        "id": "ROB6M9o9rcZb"
      },
      "source": [
        "def logfact(n):\n",
        "  logf = 0\n",
        "  for i in range(n):\n",
        "    logf += math.log(i + 1)\n",
        "  return logf\n",
        "\n",
        "def binom(n, k):\n",
        "  return math.exp(logfact(n) - logfact(k) - logfact(n - k))"
      ],
      "execution_count": null,
      "outputs": []
    },
    {
      "cell_type": "code",
      "metadata": {
        "id": "X1G7eQso2L5L",
        "outputId": "6b1ef089-b3e6-43d8-e2be-9cf33cc4788d",
        "colab": {
          "base_uri": "https://localhost:8080/",
          "height": 173
        }
      },
      "source": [
        "%time print(\"1 out of 1 = %d\" % binom(1, 1))\n",
        "%time print(\"3 out of 4  = %d\" % binom(4, 3))\n",
        "%time print(\"10 out of 100000 = %d\" % binom(100000, 10))"
      ],
      "execution_count": null,
      "outputs": [
        {
          "output_type": "stream",
          "text": [
            "1 out of 1 = 1\n",
            "CPU times: user 565 µs, sys: 0 ns, total: 565 µs\n",
            "Wall time: 2.99 ms\n",
            "3 out of 4  = 3\n",
            "CPU times: user 279 µs, sys: 0 ns, total: 279 µs\n",
            "Wall time: 373 µs\n",
            "10 out of 100000 = 27544920819946860365276225289124542970593280\n",
            "CPU times: user 39 ms, sys: 0 ns, total: 39 ms\n",
            "Wall time: 40.7 ms\n"
          ],
          "name": "stdout"
        }
      ]
    },
    {
      "cell_type": "markdown",
      "metadata": {
        "id": "XB7kNL1b4B7_"
      },
      "source": [
        "This time, the computation time is much much faster! Note, however, that we get different slightly different results:\n"
      ]
    },
    {
      "cell_type": "code",
      "metadata": {
        "id": "unKgDgSl4iEo",
        "outputId": "3fb446f6-fd31-4b8b-d9bd-4a5587f76fbe",
        "colab": {
          "base_uri": "https://localhost:8080/",
          "height": 34
        }
      },
      "source": [
        "a = comb(100000, 10)\n",
        "b = binom(100000, 10)\n",
        "err = abs(a - b )\n",
        "relerr = err/a*100\n",
        "print(f\"a={a} b={b} error={err:6g} ({relerr:.8f})%\")"
      ],
      "execution_count": null,
      "outputs": [
        {
          "output_type": "stream",
          "text": [
            "a=27544920827561470257469913571105409574990000 b=2.754492081994686e+43 error=7.61461e+33 (0.00000003)%\n"
          ],
          "name": "stdout"
        }
      ]
    },
    {
      "cell_type": "markdown",
      "metadata": {
        "id": "Rj6M91ZB4oGh"
      },
      "source": [
        "The error looks huge, but in fact it is so tiny that almost negligible. We may not be sure that we have exactly $100,000$ items, after all.\n"
      ]
    },
    {
      "cell_type": "markdown",
      "metadata": {
        "id": "tum_F3Vj5sKk"
      },
      "source": [
        "## Problem: processing data with magnitudal differences\n",
        "\n",
        "We are given the list of populations of municipalities in a country, along with the number of cases of a certain contagious disease. We want to know whether bigger towns have a higher density of the disease."
      ]
    },
    {
      "cell_type": "code",
      "metadata": {
        "id": "Rif_i8Tp9Hb9"
      },
      "source": [
        "municipalities = numpy.array([(441976, 2359), (309912, 1311), (35821, 14), (1064523, 31664), (50022, 99), (94194, 219), (1118363, 104246), (766247, 2009), (59246, 147), (96671, 271), (293166, 5864), (24842, 63), (275797, 3920), (255611, 670), (41512, 133), (75471, 235), (34456, 13), (98014, 312), (279091, 1299), (211264, 197), (79595, 410), (168959, 60), (169312, 791), (216749, 293), (106626, 172), (150191, 334), (49265, 189), (884039, 1675), (140857, 179), (73957, 226), (244515, 256), (73131, 36), (12603, 7), (48506, 448), (50863, 551), (136575, 1167), (136690, 194), (139017, 24), (246157, 4046), (41822, 117), (31105, 65), (402087, 1614), (740243, 501), (207791, 151), (18121, 218), (171057, 580), (359594, 6872), (152634, 514), (30140, 69), (76103, 2421), (135252, 510), (367552, 4688), (58093, 163), (134205, 337), (12236, 6), (75847, 230), (148942, 1450), (98733, 960), (106797, 272), (813137, 4436), (235134, 3393), (14560, 23), (315429, 1446), (289005, 1413), (576211, 6947), (340761, 697), (287344, 827), (146912, 356), (38384, 89), (112529, 911), (35154, 41), (52997, 167), (613572, 2031), (401093, 1082), (166448, 87), (44096, 104), (39067, 79), (100361, 294), (394099, 872), (52341, 142), (298666, 378), (90943, 524), (8125, 14), (34134, 292), (29867, 13), (43846, 562), (1254812, 17713), (33761, 92), (169031, 612), (990827, 15279), (229676, 1517), (38409, 777), (199770, 666), (142900, 851), (155468, 239), (438265, 1960), (37765, 57), (66980, 63), (70981, 162), (504659, 1570)])"
      ],
      "execution_count": null,
      "outputs": []
    },
    {
      "cell_type": "markdown",
      "metadata": {
        "id": "0I6C0C-l92L0"
      },
      "source": [
        "We can plot a scatter chart of the data, axis X being the population, axis Y being the number of cases.\n",
        "\n"
      ]
    },
    {
      "cell_type": "code",
      "metadata": {
        "id": "cR0kYP13_c8D",
        "outputId": "501f8d22-0f2f-4574-b37f-c6c00e196e76",
        "colab": {
          "base_uri": "https://localhost:8080/",
          "height": 295
        }
      },
      "source": [
        "populations = municipalities[:, 0]\n",
        "cases = municipalities[:, 1]\n",
        "plt.scatter(populations, cases)"
      ],
      "execution_count": null,
      "outputs": [
        {
          "output_type": "execute_result",
          "data": {
            "text/plain": [
              "<matplotlib.collections.PathCollection at 0x7f079de16908>"
            ]
          },
          "metadata": {
            "tags": []
          },
          "execution_count": 118
        },
        {
          "output_type": "display_data",
          "data": {
            "image/png": "[encoded data removed]",
            "text/plain": [
              "<Figure size 432x288 with 1 Axes>"
            ]
          },
          "metadata": {
            "tags": [],
            "needs_background": "light"
          }
        }
      ]
    },
    {
      "cell_type": "markdown",
      "metadata": {
        "id": "jNVz6D4A_fct"
      },
      "source": [
        "The plot shows a dependency, but is not particularly clear and hard to analyse. This is because there are many municipalities with small populations, and a few with very large ones. In this cases, stretching the axis for small numbers and compressing for large ones helps, and $log$ will help us."
      ]
    },
    {
      "cell_type": "code",
      "metadata": {
        "id": "Gwh3IWQgANL2",
        "outputId": "2bc467ee-b847-4689-93e5-04697de05ff3",
        "colab": {
          "base_uri": "https://localhost:8080/",
          "height": 285
        }
      },
      "source": [
        "plt.scatter(numpy.log(populations), numpy.log(cases))"
      ],
      "execution_count": null,
      "outputs": [
        {
          "output_type": "execute_result",
          "data": {
            "text/plain": [
              "<matplotlib.collections.PathCollection at 0x7f079ddff080>"
            ]
          },
          "metadata": {
            "tags": []
          },
          "execution_count": 119
        },
        {
          "output_type": "display_data",
          "data": {
            "image/png": "[encoded data removed]",
            "text/plain": [
              "<Figure size 432x288 with 1 Axes>"
            ]
          },
          "metadata": {
            "tags": [],
            "needs_background": "light"
          }
        }
      ]
    },
    {
      "cell_type": "markdown",
      "metadata": {
        "id": "fapHRuMeAbn0"
      },
      "source": [
        "There is obviously a dependency of number of cases on the population, but is it linear? We want to plot $\\frac {cases} {populations}$ and see whether it exhibits a _trend_. On $\\log$ scale, this will be difference $\\log(cases) - \\log(population)$."
      ]
    },
    {
      "cell_type": "code",
      "metadata": {
        "id": "XsydrcRJA9Ro",
        "outputId": "7c66a76a-a749-4acc-aae4-e59798cd67a3",
        "colab": {
          "base_uri": "https://localhost:8080/",
          "height": 282
        }
      },
      "source": [
        "plt.figure(figsize=(15, 4))\n",
        "plt.scatter(numpy.log(populations), numpy.log(cases) - numpy.log(populations))"
      ],
      "execution_count": null,
      "outputs": [
        {
          "output_type": "execute_result",
          "data": {
            "text/plain": [
              "<matplotlib.collections.PathCollection at 0x7f079dd53358>"
            ]
          },
          "metadata": {
            "tags": []
          },
          "execution_count": 120
        },
        {
          "output_type": "display_data",
          "data": {
            "image/png": "[encoded data removed]",
            "text/plain": [
              "<Figure size 1080x288 with 1 Axes>"
            ]
          },
          "metadata": {
            "tags": [],
            "needs_background": "light"
          }
        }
      ]
    },
    {
      "cell_type": "markdown",
      "metadata": {
        "id": "SH4tPf8MBDTC"
      },
      "source": [
        "We can see that, though not strong, the dependency is there --- bigger municipalities have a higher density of the disease. On the natural scale, this would be much harder to see:"
      ]
    },
    {
      "cell_type": "code",
      "metadata": {
        "id": "SlmgCUWrBXms",
        "outputId": "6d1585ae-29d0-472d-c717-55d2b848b840",
        "colab": {
          "base_uri": "https://localhost:8080/",
          "height": 295
        }
      },
      "source": [
        "plt.scatter(populations, cases/populations)"
      ],
      "execution_count": null,
      "outputs": [
        {
          "output_type": "execute_result",
          "data": {
            "text/plain": [
              "<matplotlib.collections.PathCollection at 0x7f079dd069b0>"
            ]
          },
          "metadata": {
            "tags": []
          },
          "execution_count": 122
        },
        {
          "output_type": "display_data",
          "data": {
            "image/png": "[encoded data removed]",
            "text/plain": [
              "<Figure size 432x288 with 1 Axes>"
            ]
          },
          "metadata": {
            "tags": [],
            "needs_background": "light"
          }
        }
      ]
    },
    {
      "cell_type": "code",
      "metadata": {
        "id": "R0MgEwNvBvPT"
      },
      "source": [
        ""
      ],
      "execution_count": null,
      "outputs": []
    }
  ]
}